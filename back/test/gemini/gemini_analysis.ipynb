{
 "cells": [
  {
   "cell_type": "code",
   "execution_count": 20,
   "metadata": {},
   "outputs": [],
   "source": [
    "import sys\n",
    "sys.path.append('../../')\n",
    "from data.raw_datas import gemini_default_prompt\n",
    "import google.generativeai as genai\n",
    "from dotenv import load_dotenv\n",
    "from pathlib import Path\n",
    "import json\n",
    "import os\n",
    "\n",
    "load_dotenv()\n",
    "\n",
    "# 제미나이 불러오기\n",
    "api_key = os.getenv(\"GEMNI_API_KEY\")\n",
    "genai.configure(api_key=api_key)\n",
    "\n",
    "model = genai.GenerativeModel('gemini-2.0-flash')\n",
    "\n",
    "\n",
    "# telegram 필터링된 데이터 불러오기\n",
    "filtered_telegram_data_path = \"../data/filtered_telegram_data.json\"\n",
    "with open(filtered_telegram_data_path, 'r', encoding='utf-8') as f:\n",
    "    filtered_telegram_data = json.load(f)\n"
   ]
  },
  {
   "cell_type": "code",
   "execution_count": 39,
   "metadata": {},
   "outputs": [],
   "source": [
    "def ask_gemini(data):\n",
    "    prompt = gemini_default_prompt + data\n",
    "    response = model.generate_content(prompt)\n",
    "    response_filter = response.text[7:-3].strip()\n",
    "    try:\n",
    "        return json.loads(response_filter)\n",
    "    except json.JSONDecodeError as e:\n",
    "        print(f\"JSON 파싱 오류: {e}\")\n",
    "        return None\n",
    "\n"
   ]
  },
  {
   "cell_type": "code",
   "execution_count": 40,
   "metadata": {},
   "outputs": [
    {
     "name": "stdout",
     "output_type": "stream",
     "text": [
      "전선 2025-05-27\n",
      "{'전선': {'2025-05-27': '{\\n    \"scores\": {\\n        \"중앙기획전략부\": 70,\\n        \"COINNESS News Feed (코인니스)\": 50,\\n        \"에테르의 일본&미국 리서치\": 100,\\n        \"💯똥밭에 굴러도 주식판\": 60,\\n        \"TNBfolio\": 70,\\n        \"키움증권 미국주식 톡톡\": 50,\\n        \"Yeouido Lab_여의도 톺아보기\": 70,\\n        \"참새선생의 주식공부방\": 40,\\n        \"탑클래스 투자\": 70,\\n        \"Palo Alto 94301\": 80,\\n        \"Brain and Body Research\": 70,\\n        \"Pluto Research\": 60,\\n        \"대신 신성장산업 & 유틸리티\": 80,\\n        \"퀀텀 알고리즘\": 70,\\n        \"뺀지뤼의 SKLab.(스크랩)\": 50,\\n        \"하나증권 리서치\": 30,\\n        \"여의도스토리 Ver2.0\": 50,\\n        \"Hodolry의 텔레그램\": 70,\\n        \"그로쓰리서치(Growth Research) [독립리서치]\": 80,\\n        \"키움증권 리서치센터\": 90,\\n        \"와우넷 한중연\": 40,\\n        \"현대차증권_리서치센터_채널\": 80,\\n        \"이지스 리서치 & 모멘텀투자클럽\": 70,\\n        \"Nihil\\'s view of data & information\": 50,\\n        \"유안타증권 리서치센터\": 60\\n    },\\n    \"summary\": \"전반적으로 시장은 에너지, 방산, 조선, 전력기기 분야에 대한 긍정적인 전망이 우세하며, 특히 AI와 관련된 전력 수요 증가와 데이터센터 투자 확대가 주요 화두로 떠오르고 있다. 원자력 발전 재개 및 SMR(소형모듈원자로) 사업 추진에 대한 관심도 높다. 반면 건설, 시멘트 업종은 다소 부정적인 전망이 제기되고 있다.  미국 금리인하에 따른 달러약세와 외국인 투자심리 개선 기대감도 존재한다.  전력, AI, 내수, 자본시장이 주요 경제 정책 테마로 부상할 것으로 예상된다.\"\\n}'}}\n"
     ]
    }
   ],
   "source": [
    "datas = {}\n",
    "should_break = False  # 루프 종료 플래그\n",
    "\n",
    "for sector in filtered_telegram_data.keys():\n",
    "    if should_break:\n",
    "        break  # 외부 루프 종료\n",
    "        \n",
    "    if sector not in datas:\n",
    "        datas[sector] = {}\n",
    "        \n",
    "    for date in filtered_telegram_data[sector]:\n",
    "        try:\n",
    "            print(sector, date)\n",
    "            datas[sector][date] = ask_gemini(str(dict(filtered_telegram_data[sector][date])))\n",
    "            should_break = True  # 플래그 설정\n",
    "            break  # 내부 루프 종료\n",
    "        except Exception as e:\n",
    "            print(f\"오류 발생: {type(e).__name__} - {str(e)}\")\n",
    "        \n",
    "print(datas)"
   ]
  },
  {
   "cell_type": "code",
   "execution_count": 25,
   "metadata": {},
   "outputs": [],
   "source": [
    "gemini_result_data_path = \"../data/gemini_result_data.json\"\n"
   ]
  }
 ],
 "metadata": {
  "kernelspec": {
   "display_name": ".venv",
   "language": "python",
   "name": "python3"
  },
  "language_info": {
   "codemirror_mode": {
    "name": "ipython",
    "version": 3
   },
   "file_extension": ".py",
   "mimetype": "text/x-python",
   "name": "python",
   "nbconvert_exporter": "python",
   "pygments_lexer": "ipython3",
   "version": "3.13.2"
  }
 },
 "nbformat": 4,
 "nbformat_minor": 2
}
