{
 "cells": [
  {
   "cell_type": "code",
   "execution_count": 6,
   "metadata": {},
   "outputs": [],
   "source": [
    "import json\n",
    "from dotenv import load_dotenv\n",
    "import google.generativeai as genai\n",
    "from pathlib import Path\n",
    "import os\n",
    "\n",
    "load_dotenv()\n",
    "\n",
    "api_key = os.getenv(\"GEMNI_API_KEY\")\n",
    "\n",
    "current_dir = Path.cwd().parent\n",
    "sector_analysis_data_path = current_dir / \"test\" / \"sector_analysis.json\"\n",
    "sectors_data_path = current_dir / \"test\" / \"sectors.json\"\n"
   ]
  },
  {
   "cell_type": "code",
   "execution_count": 9,
   "metadata": {},
   "outputs": [
    {
     "ename": "TypeError",
     "evalue": "string indices must be integers, not 'str'",
     "output_type": "error",
     "traceback": [
      "\u001b[31m---------------------------------------------------------------------------\u001b[39m",
      "\u001b[31mTypeError\u001b[39m                                 Traceback (most recent call last)",
      "\u001b[36mCell\u001b[39m\u001b[36m \u001b[39m\u001b[32mIn[9]\u001b[39m\u001b[32m, line 10\u001b[39m\n\u001b[32m      7\u001b[39m sector_names = \u001b[38;5;28mlist\u001b[39m(sectors_data.keys())\n\u001b[32m      9\u001b[39m \u001b[38;5;28;01mfor\u001b[39;00m sector \u001b[38;5;129;01min\u001b[39;00m sector_names:\n\u001b[32m---> \u001b[39m\u001b[32m10\u001b[39m     sector[\u001b[33m'\u001b[39m\u001b[33mdata\u001b[39m\u001b[33m'\u001b[39m] = \u001b[38;5;28msorted\u001b[39m(\u001b[43msector\u001b[49m\u001b[43m[\u001b[49m\u001b[33;43m'\u001b[39;49m\u001b[33;43mdata\u001b[39;49m\u001b[33;43m'\u001b[39;49m\u001b[43m]\u001b[49m, key=\u001b[38;5;28;01mlambda\u001b[39;00m x: x[\u001b[33m'\u001b[39m\u001b[33mdate\u001b[39m\u001b[33m'\u001b[39m], reverse=\u001b[38;5;28;01mTrue\u001b[39;00m)\n\u001b[32m     12\u001b[39m \u001b[38;5;66;03m# 정렬된 데이터 확인\u001b[39;00m\n\u001b[32m     13\u001b[39m \u001b[38;5;28;01mfor\u001b[39;00m sector \u001b[38;5;129;01min\u001b[39;00m analysis_sector_data[\u001b[33m'\u001b[39m\u001b[33msectors\u001b[39m\u001b[33m'\u001b[39m]: \n",
      "\u001b[31mTypeError\u001b[39m: string indices must be integers, not 'str'"
     ]
    }
   ],
   "source": [
    "with open(sector_analysis_data_path, 'r', encoding='utf-8') as f:\n",
    "    analysis_sector_data = json.load(f)\n",
    "\n",
    "with open(sectors_data_path, 'r', encoding='utf-8') as f:\n",
    "    sectors_data = json.load(f)\n",
    "\n",
    "sector_names = list(sectors_data.keys())\n",
    "\n",
    "for sector in sector_names:\n",
    "    sector['data'] = sorted(sector['data'], key=lambda x: x['date'], reverse=True)\n",
    "\n",
    "# 정렬된 데이터 확인\n",
    "for sector in analysis_sector_data['sectors']: \n",
    "    print(f\"섹터: {sector['name']}\")\n",
    "    for item in sector['data'][:3]:  # 상위 3개만 출력\n",
    "        print(f\"  날짜: {item['date']}, 점수: {item['score']}\")\n",
    "    print()"
   ]
  },
  {
   "cell_type": "code",
   "execution_count": null,
   "metadata": {},
   "outputs": [],
   "source": []
  }
 ],
 "metadata": {
  "kernelspec": {
   "display_name": ".venv",
   "language": "python",
   "name": "python3"
  },
  "language_info": {
   "codemirror_mode": {
    "name": "ipython",
    "version": 3
   },
   "file_extension": ".py",
   "mimetype": "text/x-python",
   "name": "python",
   "nbconvert_exporter": "python",
   "pygments_lexer": "ipython3",
   "version": "3.13.2"
  }
 },
 "nbformat": 4,
 "nbformat_minor": 2
}
