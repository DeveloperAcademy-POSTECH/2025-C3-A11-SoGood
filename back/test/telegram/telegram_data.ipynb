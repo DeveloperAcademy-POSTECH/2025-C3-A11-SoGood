{
 "cells": [
  {
   "cell_type": "markdown",
   "metadata": {},
   "source": [
    "# 프로세스 정리\n",
    "\n",
    "로그인 -> 구독해 있는 채널 확인 + 원하는 채널만 분류\n",
    "    -> 원하는 범위의 채널 메시지 불러오기 + 메시지 분류 및 json 저장"
   ]
  },
  {
   "cell_type": "code",
   "execution_count": 10,
   "metadata": {},
   "outputs": [],
   "source": [
    "from telethon.tl.types import InputPeerEmpty, Channel, User, Chat\n",
    "from telethon.tl.functions.channels import GetFullChannelRequest\n",
    "from telethon.tl.functions.messages import GetDialogsRequest\n",
    "from datetime import datetime, timedelta, timezone\n",
    "from telethon import TelegramClient, events\n",
    "from dotenv import load_dotenv\n",
    "from pathlib import Path\n",
    "import asyncio\n",
    "import json\n",
    "import time\n",
    "import os\n",
    "\n",
    "load_dotenv()\n",
    "\n",
    "# Telegram API 정보\n",
    "api_id = os.getenv('TELEGRAM_API_ID')\n",
    "api_hash = os.getenv('TELEGRAM_API_HASH')\n",
    "phone = os.getenv('TELEGRAM_PHONE')\n",
    "\n",
    "client = TelegramClient('telegram_session', api_id, api_hash)"
   ]
  },
  {
   "cell_type": "markdown",
   "metadata": {},
   "source": [
    "## 로그인"
   ]
  },
  {
   "cell_type": "code",
   "execution_count": 11,
   "metadata": {},
   "outputs": [],
   "source": [
    "await client.connect()\n",
    "\n",
    "if not await client.is_user_authorized():\n",
    "    await client.send_code_request(phone)\n",
    "    print(f\"{phone}으로 코드를 보냈습니다. 코드를 입력하세요:\")\n",
    "    code = input()\n",
    "    await client.sign_in(phone, code)"
   ]
  },
  {
   "cell_type": "markdown",
   "metadata": {},
   "source": [
    "## 구독해 있는 채널 확인 + 원하는 채널만 분류 "
   ]
  },
  {
   "cell_type": "code",
   "execution_count": 12,
   "metadata": {},
   "outputs": [
    {
     "name": "stdout",
     "output_type": "stream",
     "text": [
      "[1545256759, 1396820120, 1386345244, 1267620333, 2342739984, 1909745040, 1923637862, 1839490666, 2172249444, 1379897604, 1363666182, 1401647353, 1260023521, 1576521642, 1451111390, 2240178633, 1917610401, 1356118022, 1798170763, 1989467167, 1326994859, 1932462219, 1245319176, 1890360860, 1720065182, 1127010518, 1682527794, 1191697168, 2039438207, 2014051067, 1967687669, 1150586161, 2009765098, 1378197756, 1657785983, 1563539882, 1410262947, 1306052516, 2313632611, 1389529013, 2042637475, 1953325362, 1192351807, 1652098893, 1738234843, 1487913461, 1219549285, 1390138428, 1590774317, 1778838617, 1217109609, 1619402703, 1519612053, 1656364050, 1472429824, 1962529222, 1506140857, 1514595150, 1501645737, 1185561205, 1124650657, 1954342371, 1500265128, 1066938528, 1771079971, 1600798466, 1147595657, 1235226464, 2197517750, 1086116949, 1527329083, 1784919258, 1346864141, 1176773168, 1127984656, 1667546254, 1331790320, 1257359341, 2138524075, 1550772257, 1234537745, 1080519355, 1691482032, 1392692570, 1440141202, 1726574370, 1484821797, 1159850668, 1447445455, 1135600447, 1615169495, 1970745689, 1103784648, 1892942610, 1544338145, 1441903995, 1455656976, 1074823922, 1278234374, 1119434749, 2100804940, 1861520498, 1080918683, 1578593040, 1603662786, 1347178027, 1226189796, 1111987116, 1612596289, 2228839080, 1930683738, 1710856090, 1116605335, 1864102896, 1475822267, 1304523786, 1441541764, 1304106630, 1190510354, 1974102584, 1379902630, 1090378290, 1123887362, 1265976664, 1097256602, 1657515582, 1786506622, 2016924532, 1308754120, 1206447648, 2080574667, 1557746295, 1128988821, 1387804752, 2242086391, 2236318561, 1863728198, 1363248717, 1928915319, 1327307590, 1419091137, 2042530514, 2246173745, 2205440365, 2006736444, 1399912563, 2208406711, 1117483208, 2173900823, 2227261828, 2281063197, 2192601529, 1684358146, 2192043570, 1159214343, 2205434974, 2119187487, 1931011385, 2461841460, 1688806693, 2165094714, 2147355588, 2186453587]\n"
     ]
    }
   ],
   "source": [
    "avoid_channels_name = ['ㅇㅇ','ㄱㄴㄷ','아ㅏ아','코백남 공지방','화장품, 실리콘투, 뷰티']\n",
    "channels = []\n",
    "\n",
    "dialogs = await client.get_dialogs()\n",
    "\n",
    "for dialog in dialogs:\n",
    "    entity = dialog.entity\n",
    "    if isinstance(entity, Channel):\n",
    "        if entity.title not in avoid_channels_name:\n",
    "            channels.append(entity.id)\n",
    "\n",
    "print(channels)"
   ]
  },
  {
   "cell_type": "markdown",
   "metadata": {},
   "source": [
    "## 원하는 범위의 채널 메시지 불러오기 + 메시지 분류 및 json 저장"
   ]
  },
  {
   "cell_type": "code",
   "execution_count": 13,
   "metadata": {},
   "outputs": [],
   "source": [
    "# 색터에 해당하는 채널 찾기\n",
    "\n",
    "current_dir = Path.cwd().parent\n",
    "data_path = current_dir / \"data\" / \"sectors.json\"\n",
    "\n",
    "# 섹터 나누는 기준 불러오기\n",
    "with open(data_path, \"r\") as f:\n",
    "    sectors = json.load(f)\n",
    "\n",
    "# 해당 메시지에 존재하는 섹터 찾기\n",
    "async def categorize_message_by_sector(messages):\n",
    "    found_sectors = []\n",
    "    for sector, keywords in sectors.items():\n",
    "        for keyword in keywords:\n",
    "            if keyword in messages:\n",
    "                found_sectors.append(sector)\n",
    "                break\n",
    "\n",
    "    return list(set(found_sectors))"
   ]
  },
  {
   "cell_type": "code",
   "execution_count": 14,
   "metadata": {},
   "outputs": [],
   "source": [
    "# 데이터 형식 정의\n",
    "from collections import defaultdict\n",
    "from dataclasses import dataclass\n",
    "\n",
    "@dataclass\n",
    "class Post:\n",
    "    time: str\n",
    "    content: str\n",
    "    views: int\n",
    "    replies: int\n",
    "\n",
    "# 3중 중첩 defaultdict 생성\n",
    "sector_data = defaultdict(\n",
    "    lambda: defaultdict(\n",
    "        lambda: defaultdict(\n",
    "            lambda: {\n",
    "                \"posts\": [],\n",
    "                \"subscribe\": 0\n",
    "            }\n",
    "        )\n",
    "    )\n",
    ")"
   ]
  },
  {
   "cell_type": "code",
   "execution_count": 15,
   "metadata": {},
   "outputs": [],
   "source": [
    "\"\"\"\n",
    "특정 채널에서 지정된 날짜 범위 내의 모든 메시지를 가져오는 함수\n",
    "\n",
    "매개변수:\n",
    "- client: 텔레그램 클라이언트 인스턴스\n",
    "- channel_id: 텔레그램 채널 ID (정수)\n",
    "- start_date: 시작 날짜 (datetime 객체)\n",
    "- end_date: 종료 날짜 (datetime 객체)\n",
    "- sector_data: 데이터를 담을 칸\n",
    "\"\"\"\n",
    "\n",
    "async def get_channel_messages(client, channel_id, start_date, end_date, sector_data):\n",
    "    try:\n",
    "        # 채널 엔티티 가져오기\n",
    "        channel = await client.get_entity(channel_id)\n",
    "\n",
    "        # 전체 채널 정보 가져오기\n",
    "        try:\n",
    "            full_channel = await client(GetFullChannelRequest(channel=channel))\n",
    "            subscribers_count = full_channel.full_chat.participants_count\n",
    "        except Exception as e:\n",
    "            print(f\"{e}\")\n",
    "        \n",
    "        # 메시지 가져오기 (end_date부터 역순으로)\n",
    "        async for message in client.iter_messages(\n",
    "            channel, \n",
    "            offset_date=end_date,\n",
    "            reverse=False\n",
    "        ):\n",
    "            # 시작 날짜보다 이전 메시지면 중단\n",
    "            if message.date < start_date:\n",
    "                break\n",
    "                \n",
    "            # 종료 날짜보다 이후 메시지면 건너뛰기\n",
    "            if message.date > end_date:\n",
    "                continue\n",
    "\n",
    "            #섹터 확인\n",
    "            sectors = await categorize_message_by_sector(message.message)\n",
    "\n",
    "            date_str = message.date.strftime('%Y-%m-%d')\n",
    "            channel_title = channel.title\n",
    "            \n",
    "            # 섹터가 없으면 다음 메시지로\n",
    "            if not sectors:\n",
    "                continue\n",
    "            \n",
    "            for sector in sectors:\n",
    "                if sector not in sector_data:\n",
    "                    sector_data[sector] = {}\n",
    "                \n",
    "                if date_str not in sector_data[sector]:\n",
    "                    sector_data[sector][date_str] = {}\n",
    "                \n",
    "                channel_title = channel.title\n",
    "                if channel_title not in sector_data[sector][date_str]:\n",
    "                    sector_data[sector][date_str][channel_title] = {\n",
    "                        \"posts\": [],\n",
    "                        \"subscribers\": subscribers_count\n",
    "                    }\n",
    "                \n",
    "                # 게시글 정보 저장\n",
    "                post_info = {\n",
    "                    \"time\": message.date.strftime('%H:%M:%S'),\n",
    "                    \"content\": message.message,\n",
    "                    \"views\": message.views if hasattr(message, 'views') else 0,\n",
    "                    \"replies\": len(await client.get_messages(channel, reply_to=message.id)) if message.replies else 0\n",
    "                }\n",
    "                \n",
    "                sector_data[sector][date_str][channel_title][\"posts\"].append(post_info)\n",
    "            \n",
    "            await asyncio.sleep(0.5)\n",
    "        \n",
    "        \n",
    "    except Exception as e:\n",
    "        import traceback\n",
    "        print(f\"채널 ID: {channel_id}, 채널 엔티티: {channel if 'channel' in locals() else '없음'}\")\n",
    "        print(f\"메시지 가져오기 중 오류 발생: {e}\")\n",
    "        print(traceback.format_exc())\n"
   ]
  },
  {
   "cell_type": "code",
   "execution_count": null,
   "metadata": {},
   "outputs": [
    {
     "name": "stdout",
     "output_type": "stream",
     "text": [
      "163\n",
      "채널 ID: 1번 채널 처리 시작\n",
      "채널 ID: 1545256759, 채널 엔티티: Channel(id=1545256759, title='중앙기획전략부', photo=ChatPhoto(photo_id=6089268903168557894, dc_id=5, has_video=False, stripped_thumb=b'\\x01\\x08\\x08\\xa8\\xa8\\x8d\\x03l\\x8c\\xef\\xdc1\\xf8\\xd1E\\x15\\x1c\\xcd\\x17k\\x9f'), date=datetime.datetime(2024, 8, 23, 8, 42, 6, tzinfo=datetime.timezone.utc), creator=False, left=False, broadcast=True, verified=False, megagroup=False, restricted=False, signatures=False, min=False, scam=False, has_link=True, has_geo=False, slowmode_enabled=False, call_active=False, call_not_empty=False, fake=False, gigagroup=False, noforwards=False, join_to_send=False, join_request=False, forum=False, stories_hidden=False, stories_hidden_min=False, stories_unavailable=True, signature_profiles=False, access_hash=6197651663426960391, username='getfeed', restriction_reason=[], admin_rights=None, banned_rights=None, default_banned_rights=None, participants_count=None, usernames=[], stories_max_id=None, color=None, profile_color=None, emoji_status=None, level=None, subscription_until_date=None, bot_verification_icon=None, send_paid_messages_stars=None)\n",
      "메시지 가져오기 중 오류 발생: argument of type 'NoneType' is not iterable\n",
      "Traceback (most recent call last):\n",
      "  File \"/var/folders/x8/14zcr74s3cq21gvs7y9gsz3h0000gn/T/ipykernel_10375/554936698.py\", line 39, in get_channel_messages\n",
      "    sectors = await categorize_message_by_sector(message.message)\n",
      "              ^^^^^^^^^^^^^^^^^^^^^^^^^^^^^^^^^^^^^^^^^^^^^^^^^^^\n",
      "  File \"/var/folders/x8/14zcr74s3cq21gvs7y9gsz3h0000gn/T/ipykernel_10375/3356972006.py\", line 15, in categorize_message_by_sector\n",
      "    if keyword in messages:\n",
      "       ^^^^^^^^^^^^^^^^^^^\n",
      "TypeError: argument of type 'NoneType' is not iterable\n",
      "\n",
      "처리 완료\n",
      "채널 ID: 2번 채널 처리 시작\n"
     ]
    }
   ],
   "source": [
    "end_date = datetime.now(timezone(timedelta(hours=9)))\n",
    "start_date = end_date - timedelta(days=7)\n",
    "sector_data = {}\n",
    "\n",
    "print(len(channels))\n",
    "\n",
    "async def process_all_channels():\n",
    "    n=1\n",
    "    for channel in channels:\n",
    "        try:\n",
    "            print(f\"채널 ID: {n}번 채널 처리 시작\")\n",
    "            await get_channel_messages(client=client, channel_id=channel,\n",
    "                         start_date=start_date, end_date=end_date, sector_data=sector_data)\n",
    "            print(f\"처리 완료 \\n\")\n",
    "        except Exception as e:\n",
    "            import traceback\n",
    "            print(f\"채널 ID: {n}번: {channel} 처리 중 오류 발생: {e}\")\n",
    "            print(traceback.format_exc())  # 상세 에러 스택 출력\n",
    "        n += 1\n",
    "\n",
    "await process_all_channels()"
   ]
  },
  {
   "cell_type": "code",
   "execution_count": 16,
   "metadata": {},
   "outputs": [
    {
     "name": "stdout",
     "output_type": "stream",
     "text": [
      "sector_data가 JSON 파일로 저장되었습니다.\n"
     ]
    }
   ],
   "source": [
    "def convert_defaultdict_to_dict(d):\n",
    "    if isinstance(d, defaultdict):\n",
    "        d = {k: convert_defaultdict_to_dict(v) for k, v in d.items()}\n",
    "    elif isinstance(d, dict):\n",
    "        d = {k: convert_defaultdict_to_dict(v) for k, v in d.items()}\n",
    "    elif isinstance(d, list):\n",
    "        d = [convert_defaultdict_to_dict(v) for v in d]\n",
    "    # dataclass 사용 시\n",
    "    elif hasattr(d, '__dict__'):\n",
    "        d = convert_defaultdict_to_dict(d.__dict__)\n",
    "    return d\n",
    "\n",
    "# 일반 dict로 변환\n",
    "regular_dict = convert_defaultdict_to_dict(sector_data)\n",
    "\n",
    "# JSON 파일로 저장\n",
    "with open('sector_data.json', 'w', encoding='utf-8') as f:\n",
    "    json.dump(regular_dict, f, ensure_ascii=False, indent=2)\n",
    "\n",
    "print(\"sector_data가 JSON 파일로 저장되었습니다.\")"
   ]
  },
  {
   "cell_type": "code",
   "execution_count": null,
   "metadata": {},
   "outputs": [],
   "source": [
    "await client.disconnect()"
   ]
  }
 ],
 "metadata": {
  "kernelspec": {
   "display_name": ".venv",
   "language": "python",
   "name": "python3"
  },
  "language_info": {
   "codemirror_mode": {
    "name": "ipython",
    "version": 3
   },
   "file_extension": ".py",
   "mimetype": "text/x-python",
   "name": "python",
   "nbconvert_exporter": "python",
   "pygments_lexer": "ipython3",
   "version": "3.13.2"
  }
 },
 "nbformat": 4,
 "nbformat_minor": 2
}
