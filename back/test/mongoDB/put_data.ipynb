{
 "cells": [
  {
   "cell_type": "code",
   "execution_count": 12,
   "metadata": {},
   "outputs": [],
   "source": [
    "import firebase_admin\n",
    "from firebase_admin import credentials, firestore\n",
    "import json\n",
    "import os"
   ]
  },
  {
   "cell_type": "code",
   "execution_count": 13,
   "metadata": {},
   "outputs": [],
   "source": [
    "crawled_telegram_data_path = \"../data/crawled_telegram_data.json\"\n",
    "filtered_telegram_data_path = \"../data/filtered_telegram_data.json\"\n",
    "\n",
    "with open(crawled_telegram_data_path, \"r\") as f:\n",
    "    crawled_telegram_data = json.load(f)\n",
    "\n",
    "with open(filtered_telegram_data_path,\"r\") as f:\n",
    "    filtered_telegram_data = json.load(f)"
   ]
  },
  {
   "cell_type": "code",
   "execution_count": 15,
   "metadata": {},
   "outputs": [],
   "source": [
    "firebase_key_path = '../../data/firebase-key.json'\n",
    "\n",
    "if not firebase_admin._apps:\n",
    "    cred = credentials.Certificate(firebase_key_path)\n",
    "    firebase_admin.initialize_app(cred)\n",
    "db = firestore.client()\n"
   ]
  },
  {
   "cell_type": "code",
   "execution_count": 16,
   "metadata": {},
   "outputs": [],
   "source": [
    "category = \"analyzed_telegram_data\""
   ]
  },
  {
   "cell_type": "code",
   "execution_count": 17,
   "metadata": {},
   "outputs": [],
   "source": [
    "# 섹터 데이터 저장\n",
    "def save_sector_data(sector, data):\n",
    "    doc_ref = db.collection(category).document(sector)\n",
    "    doc_ref.set(data)\n",
    "    return f\"{sector} 데이터 저장 완료\"\n"
   ]
  },
  {
   "cell_type": "code",
   "execution_count": null,
   "metadata": {},
   "outputs": [],
   "source": [
    "for category in crawled_telegram_data.keys():\n",
    "    if category == '':\n",
    "        pass\n",
    "    else:\n",
    "        for date in data[category]:\n",
    "            for channel in data[category][date]:\n",
    "                d"
   ]
  }
 ],
 "metadata": {
  "kernelspec": {
   "display_name": ".venv",
   "language": "python",
   "name": "python3"
  },
  "language_info": {
   "codemirror_mode": {
    "name": "ipython",
    "version": 3
   },
   "file_extension": ".py",
   "mimetype": "text/x-python",
   "name": "python",
   "nbconvert_exporter": "python",
   "pygments_lexer": "ipython3",
   "version": "3.13.2"
  }
 },
 "nbformat": 4,
 "nbformat_minor": 2
}
