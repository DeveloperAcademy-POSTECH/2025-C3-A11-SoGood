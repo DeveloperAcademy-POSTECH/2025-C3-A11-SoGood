{
 "cells": [
  {
   "cell_type": "code",
   "execution_count": 12,
   "metadata": {},
   "outputs": [],
   "source": [
    "from firebase_admin import credentials, firestore\n",
    "from datetime import datetime\n",
    "import firebase_admin\n",
    "import logging\n",
    "import json\n",
    "import os"
   ]
  },
  {
   "cell_type": "code",
   "execution_count": 13,
   "metadata": {},
   "outputs": [],
   "source": [
    "from sector_detail__each_sector_monthly_data import depnn\n",
    "from telegram_raw_datas import sectors"
   ]
  },
  {
   "cell_type": "code",
   "execution_count": 14,
   "metadata": {},
   "outputs": [],
   "source": [
    "# 파베 로그인\n",
    "firebase_key_path = '../../data/firebase-key.json'\n",
    "\n",
    "if not firebase_admin._apps:\n",
    "    cred = credentials.Certificate(firebase_key_path)\n",
    "    firebase_admin.initialize_app(cred)\n",
    "db = firestore.client()\n"
   ]
  },
  {
   "cell_type": "code",
   "execution_count": 15,
   "metadata": {},
   "outputs": [],
   "source": [
    "# 로그 디렉토리 생성\n",
    "log_dir = \"../logs\"\n",
    "os.makedirs(log_dir, exist_ok=True)\n",
    "\n",
    "# 로깅 설정\n",
    "logging.basicConfig(\n",
    "    level=logging.INFO,\n",
    "    format='%(asctime)s - %(name)s - %(levelname)s - %(message)s',\n",
    "    handlers=[\n",
    "        logging.FileHandler(f\"{log_dir}/firebase_operations.log\", encoding='utf-8'),\n",
    "        logging.StreamHandler()  # 콘솔에도 출력\n",
    "    ]\n",
    ")\n",
    "\n",
    "logger = logging.getLogger(\"firebase_operations\")"
   ]
  },
  {
   "cell_type": "code",
   "execution_count": 16,
   "metadata": {},
   "outputs": [],
   "source": [
    "collection = \"try_sector_detail_page\""
   ]
  },
  {
   "cell_type": "code",
   "execution_count": 17,
   "metadata": {},
   "outputs": [],
   "source": [
    "# 섹터 데이터 저장\n",
    "def save_sector_data(sector, month, data):\n",
    "    if db.collection(collection).document(sector).collection(\"monthly_data\").document(month).get().exists:\n",
    "        pass\n",
    "    else:\n",
    "        try:\n",
    "            db.collection(collection).document(sector).collection(\"monthly_data\").document(month).set(data)\n",
    "            return f\"{month} 데이터 저장 완료\"\n",
    "        except Exception as e:\n",
    "            error_msg = f\"데이터 저장 중 오류 발생: {e}\"\n",
    "            logger.error(error_msg)\n",
    "            return error_msg\n"
   ]
  },
  {
   "cell_type": "code",
   "execution_count": 18,
   "metadata": {},
   "outputs": [],
   "source": [
    "for i in range(2021,2025):\n",
    "    for j in range(1,13):\n",
    "        for sector in sectors.keys():\n",
    "            save_sector_data(sector, f\"{i}-{j:02d}\", depnn(i,f\"{j:02d}\"))\n",
    "            \n"
   ]
  },
  {
   "cell_type": "code",
   "execution_count": 19,
   "metadata": {},
   "outputs": [],
   "source": [
    "for j in range(1,13):\n",
    "    for sector in sectors.keys():\n",
    "        save_sector_data(sector, f\"2025-{j:02d}\", depnn(i,f\"{j:02d}\"))"
   ]
  }
 ],
 "metadata": {
  "kernelspec": {
   "display_name": ".venv",
   "language": "python",
   "name": "python3"
  },
  "language_info": {
   "codemirror_mode": {
    "name": "ipython",
    "version": 3
   },
   "file_extension": ".py",
   "mimetype": "text/x-python",
   "name": "python",
   "nbconvert_exporter": "python",
   "pygments_lexer": "ipython3",
   "version": "3.13.2"
  }
 },
 "nbformat": 4,
 "nbformat_minor": 2
}
