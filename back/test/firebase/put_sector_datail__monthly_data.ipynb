{
 "cells": [
  {
   "cell_type": "code",
   "execution_count": 1,
   "metadata": {},
   "outputs": [],
   "source": [
    "from firebase_admin import credentials, firestore\n",
    "from datetime import datetime\n",
    "import firebase_admin\n",
    "import logging\n",
    "import json\n",
    "import os"
   ]
  },
  {
   "cell_type": "code",
   "execution_count": 2,
   "metadata": {},
   "outputs": [],
   "source": [
    "# 데이터 불러오기\n",
    "sector_detail__each_sector_monthly_data_path = \"../data/dummy/sector_detail__each_sector_monthly_data.json\"\n",
    "\n",
    "with open(sector_detail__each_sector_monthly_data_path,\"r\") as f:\n",
    "    sector_detail__each_sector_monthly_data = json.load(f)"
   ]
  },
  {
   "cell_type": "code",
   "execution_count": 3,
   "metadata": {},
   "outputs": [],
   "source": [
    "# 파베 로그인\n",
    "firebase_key_path = '../../data/firebase-key.json'\n",
    "\n",
    "if not firebase_admin._apps:\n",
    "    cred = credentials.Certificate(firebase_key_path)\n",
    "    firebase_admin.initialize_app(cred)\n",
    "db = firestore.client()\n"
   ]
  },
  {
   "cell_type": "code",
   "execution_count": 4,
   "metadata": {},
   "outputs": [],
   "source": [
    "category = \"try_sector_detail\""
   ]
  },
  {
   "cell_type": "code",
   "execution_count": 5,
   "metadata": {},
   "outputs": [],
   "source": [
    "# 로그 디렉토리 생성\n",
    "log_dir = \"../logs\"\n",
    "os.makedirs(log_dir, exist_ok=True)\n",
    "\n",
    "# 로깅 설정\n",
    "logging.basicConfig(\n",
    "    level=logging.INFO,\n",
    "    format='%(asctime)s - %(name)s - %(levelname)s - %(message)s',\n",
    "    handlers=[\n",
    "        logging.FileHandler(f\"{log_dir}/firebase_operations.log\", encoding='utf-8'),\n",
    "        logging.StreamHandler()  # 콘솔에도 출력\n",
    "    ]\n",
    ")\n",
    "\n",
    "logger = logging.getLogger(\"firebase_operations\")"
   ]
  },
  {
   "cell_type": "code",
   "execution_count": 6,
   "metadata": {},
   "outputs": [],
   "source": [
    "# 섹터 데이터 저장\n",
    "def save_sector_data(month, data):\n",
    "    if db.collection(category).document(\"datas\").collection(\"monthly_data\").document(month).get().exists:\n",
    "        pass\n",
    "    else:\n",
    "        try:\n",
    "            db.collection(category).document(\"datas\").collection(\"monthly_data\").document(month).set(data)\n",
    "            return \"데이터 저장 완료\"\n",
    "        except Exception as e:\n",
    "            error_msg = f\"데이터 저장 중 오류 발생: {e}\"\n",
    "            logger.error(error_msg)\n",
    "            return error_msg\n"
   ]
  },
  {
   "cell_type": "code",
   "execution_count": 7,
   "metadata": {},
   "outputs": [
    {
     "ename": "TypeError",
     "evalue": "sequence item 3: expected str instance, dict found",
     "output_type": "error",
     "traceback": [
      "\u001b[31m---------------------------------------------------------------------------\u001b[39m",
      "\u001b[31mTypeError\u001b[39m                                 Traceback (most recent call last)",
      "\u001b[36mCell\u001b[39m\u001b[36m \u001b[39m\u001b[32mIn[7]\u001b[39m\u001b[32m, line 3\u001b[39m\n\u001b[32m      1\u001b[39m months = [\u001b[33m\"\u001b[39m\u001b[33m25-01\u001b[39m\u001b[33m\"\u001b[39m, \u001b[33m\"\u001b[39m\u001b[33m25-02\u001b[39m\u001b[33m\"\u001b[39m, \u001b[33m\"\u001b[39m\u001b[33m25-03\u001b[39m\u001b[33m\"\u001b[39m, \u001b[33m\"\u001b[39m\u001b[33m25-04\u001b[39m\u001b[33m\"\u001b[39m, \u001b[33m\"\u001b[39m\u001b[33m25-05\u001b[39m\u001b[33m\"\u001b[39m]\n\u001b[32m      2\u001b[39m \u001b[38;5;28;01mfor\u001b[39;00m month \u001b[38;5;129;01min\u001b[39;00m months:\n\u001b[32m----> \u001b[39m\u001b[32m3\u001b[39m     \u001b[38;5;28mprint\u001b[39m(\u001b[43msave_sector_data\u001b[49m\u001b[43m(\u001b[49m\u001b[43msector_detail__each_sector_monthly_data\u001b[49m\u001b[43m,\u001b[49m\u001b[43mmonth\u001b[49m\u001b[43m)\u001b[49m)\n",
      "\u001b[36mCell\u001b[39m\u001b[36m \u001b[39m\u001b[32mIn[6]\u001b[39m\u001b[32m, line 3\u001b[39m, in \u001b[36msave_sector_data\u001b[39m\u001b[34m(month, data)\u001b[39m\n\u001b[32m      2\u001b[39m \u001b[38;5;28;01mdef\u001b[39;00m\u001b[38;5;250m \u001b[39m\u001b[34msave_sector_data\u001b[39m(month, data):\n\u001b[32m----> \u001b[39m\u001b[32m3\u001b[39m     \u001b[38;5;28;01mif\u001b[39;00m \u001b[43mdb\u001b[49m\u001b[43m.\u001b[49m\u001b[43mcollection\u001b[49m\u001b[43m(\u001b[49m\u001b[43mcategory\u001b[49m\u001b[43m)\u001b[49m\u001b[43m.\u001b[49m\u001b[43mdocument\u001b[49m\u001b[43m(\u001b[49m\u001b[33;43m\"\u001b[39;49m\u001b[33;43mdatas\u001b[39;49m\u001b[33;43m\"\u001b[39;49m\u001b[43m)\u001b[49m\u001b[43m.\u001b[49m\u001b[43mcollection\u001b[49m\u001b[43m(\u001b[49m\u001b[33;43m\"\u001b[39;49m\u001b[33;43mmonthly_data\u001b[39;49m\u001b[33;43m\"\u001b[39;49m\u001b[43m)\u001b[49m\u001b[43m.\u001b[49m\u001b[43mdocument\u001b[49m\u001b[43m(\u001b[49m\u001b[43mmonth\u001b[49m\u001b[43m)\u001b[49m.get().exists:\n\u001b[32m      4\u001b[39m         \u001b[38;5;28;01mpass\u001b[39;00m\n\u001b[32m      5\u001b[39m     \u001b[38;5;28;01melse\u001b[39;00m:\n",
      "\u001b[36mFile \u001b[39m\u001b[32m~/Desktop/project/ADA/sogood/.venv/lib/python3.13/site-packages/google/cloud/firestore_v1/base_collection.py:151\u001b[39m, in \u001b[36mBaseCollectionReference.document\u001b[39m\u001b[34m(self, document_id)\u001b[39m\n\u001b[32m    147\u001b[39m \u001b[38;5;66;03m# Append `self._path` and the passed document's ID as long as the first\u001b[39;00m\n\u001b[32m    148\u001b[39m \u001b[38;5;66;03m# element in the path is not an empty string, which comes from setting the\u001b[39;00m\n\u001b[32m    149\u001b[39m \u001b[38;5;66;03m# parent to \"\" for recursive queries.\u001b[39;00m\n\u001b[32m    150\u001b[39m child_path = \u001b[38;5;28mself\u001b[39m._path + (document_id,) \u001b[38;5;28;01mif\u001b[39;00m \u001b[38;5;28mself\u001b[39m._path[\u001b[32m0\u001b[39m] \u001b[38;5;28;01melse\u001b[39;00m (document_id,)\n\u001b[32m--> \u001b[39m\u001b[32m151\u001b[39m \u001b[38;5;28;01mreturn\u001b[39;00m \u001b[38;5;28;43mself\u001b[39;49m\u001b[43m.\u001b[49m\u001b[43m_client\u001b[49m\u001b[43m.\u001b[49m\u001b[43mdocument\u001b[49m\u001b[43m(\u001b[49m\u001b[43m*\u001b[49m\u001b[43mchild_path\u001b[49m\u001b[43m)\u001b[49m\n",
      "\u001b[36mFile \u001b[39m\u001b[32m~/Desktop/project/ADA/sogood/.venv/lib/python3.13/site-packages/google/cloud/firestore_v1/client.py:198\u001b[39m, in \u001b[36mClient.document\u001b[39m\u001b[34m(self, *document_path)\u001b[39m\n\u001b[32m    166\u001b[39m \u001b[38;5;28;01mdef\u001b[39;00m\u001b[38;5;250m \u001b[39m\u001b[34mdocument\u001b[39m(\u001b[38;5;28mself\u001b[39m, *document_path: \u001b[38;5;28mstr\u001b[39m) -> DocumentReference:\n\u001b[32m    167\u001b[39m \u001b[38;5;250m    \u001b[39m\u001b[33;03m\"\"\"Get a reference to a document in a collection.\u001b[39;00m\n\u001b[32m    168\u001b[39m \n\u001b[32m    169\u001b[39m \u001b[33;03m    For a top-level document:\u001b[39;00m\n\u001b[32m   (...)\u001b[39m\u001b[32m    195\u001b[39m \u001b[33;03m        A reference to a document in a collection.\u001b[39;00m\n\u001b[32m    196\u001b[39m \u001b[33;03m    \"\"\"\u001b[39;00m\n\u001b[32m    197\u001b[39m     \u001b[38;5;28;01mreturn\u001b[39;00m DocumentReference(\n\u001b[32m--> \u001b[39m\u001b[32m198\u001b[39m         *\u001b[38;5;28;43mself\u001b[39;49m\u001b[43m.\u001b[49m\u001b[43m_document_path_helper\u001b[49m\u001b[43m(\u001b[49m\u001b[43m*\u001b[49m\u001b[43mdocument_path\u001b[49m\u001b[43m)\u001b[49m, client=\u001b[38;5;28mself\u001b[39m\n\u001b[32m    199\u001b[39m     )\n",
      "\u001b[36mFile \u001b[39m\u001b[32m~/Desktop/project/ADA/sogood/.venv/lib/python3.13/site-packages/google/cloud/firestore_v1/base_client.py:339\u001b[39m, in \u001b[36mBaseClient._document_path_helper\u001b[39m\u001b[34m(self, *document_path)\u001b[39m\n\u001b[32m    337\u001b[39m path = _path_helper(document_path)\n\u001b[32m    338\u001b[39m base_path = \u001b[38;5;28mself\u001b[39m._database_string + \u001b[33m\"\u001b[39m\u001b[33m/documents/\u001b[39m\u001b[33m\"\u001b[39m\n\u001b[32m--> \u001b[39m\u001b[32m339\u001b[39m joined_path = \u001b[43m_helpers\u001b[49m\u001b[43m.\u001b[49m\u001b[43mDOCUMENT_PATH_DELIMITER\u001b[49m\u001b[43m.\u001b[49m\u001b[43mjoin\u001b[49m\u001b[43m(\u001b[49m\u001b[43mpath\u001b[49m\u001b[43m)\u001b[49m\n\u001b[32m    340\u001b[39m \u001b[38;5;28;01mif\u001b[39;00m joined_path.startswith(base_path):\n\u001b[32m    341\u001b[39m     joined_path = joined_path[\u001b[38;5;28mlen\u001b[39m(base_path) :]\n",
      "\u001b[31mTypeError\u001b[39m: sequence item 3: expected str instance, dict found"
     ]
    }
   ],
   "source": [
    "months = [\"25-01\", \"25-02\", \"25-03\", \"25-04\", \"25-05\"]\n",
    "for month in months:\n",
    "    print(save_sector_data(sector_detail__each_sector_monthly_data,month))"
   ]
  },
  {
   "cell_type": "code",
   "execution_count": null,
   "metadata": {},
   "outputs": [],
   "source": []
  }
 ],
 "metadata": {
  "kernelspec": {
   "display_name": ".venv",
   "language": "python",
   "name": "python3"
  },
  "language_info": {
   "codemirror_mode": {
    "name": "ipython",
    "version": 3
   },
   "file_extension": ".py",
   "mimetype": "text/x-python",
   "name": "python",
   "nbconvert_exporter": "python",
   "pygments_lexer": "ipython3",
   "version": "3.13.2"
  }
 },
 "nbformat": 4,
 "nbformat_minor": 2
}
