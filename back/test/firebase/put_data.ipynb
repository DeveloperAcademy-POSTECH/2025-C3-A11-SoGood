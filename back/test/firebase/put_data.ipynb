{
 "cells": [
  {
   "cell_type": "code",
   "execution_count": 16,
   "metadata": {},
   "outputs": [],
   "source": [
    "from firebase_admin import credentials, firestore\n",
    "from datetime import datetime\n",
    "import firebase_admin\n",
    "import logging\n",
    "import json\n",
    "import os"
   ]
  },
  {
   "cell_type": "code",
   "execution_count": 17,
   "metadata": {},
   "outputs": [],
   "source": [
    "crawled_telegram_data_path = \"../data/crawled_telegram_data.json\"\n",
    "gemini_result_data_path = \"../data/gemini_result_data.json\"\n",
    "\n",
    "with open(crawled_telegram_data_path, \"r\") as f:\n",
    "    crawled_telegram_data = json.load(f)\n",
    "\n",
    "with open(gemini_result_data_path,\"r\") as f:\n",
    "    gemini_result_data = json.load(f)"
   ]
  },
  {
   "cell_type": "code",
   "execution_count": 18,
   "metadata": {},
   "outputs": [],
   "source": [
    "firebase_key_path = '../../data/firebase-key.json'\n",
    "\n",
    "if not firebase_admin._apps:\n",
    "    cred = credentials.Certificate(firebase_key_path)\n",
    "    firebase_admin.initialize_app(cred)\n",
    "db = firestore.client()\n"
   ]
  },
  {
   "cell_type": "code",
   "execution_count": 19,
   "metadata": {},
   "outputs": [],
   "source": [
    "category = \"analyzed_telegram_data\""
   ]
  },
  {
   "cell_type": "code",
   "execution_count": 20,
   "metadata": {},
   "outputs": [],
   "source": [
    "# 로그 디렉토리 생성\n",
    "log_dir = \"../logs\"\n",
    "os.makedirs(log_dir, exist_ok=True)\n",
    "\n",
    "# 로깅 설정\n",
    "logging.basicConfig(\n",
    "    level=logging.INFO,\n",
    "    format='%(asctime)s - %(name)s - %(levelname)s - %(message)s',\n",
    "    handlers=[\n",
    "        logging.FileHandler(f\"{log_dir}/mongodb_operations.log\", encoding='utf-8'),\n",
    "        logging.StreamHandler()  # 콘솔에도 출력\n",
    "    ]\n",
    ")\n",
    "\n",
    "logger = logging.getLogger(\"mongodb_operations\")"
   ]
  },
  {
   "cell_type": "code",
   "execution_count": 21,
   "metadata": {},
   "outputs": [],
   "source": [
    "# 섹터 데이터 저장\n",
    "def save_sector_data(sector, date_str, data):\n",
    "    try:\n",
    "        doc_ref = db.collection(category).document(sector)\n",
    "        doc = doc_ref.get()\n",
    "        \n",
    "        # 데이터에 원본 날짜 문자열도 포함\n",
    "        data[\"date_str\"] = date_str\n",
    "        \n",
    "        if doc.exists:\n",
    "            # 기존 데이터가 있으면 가져오기\n",
    "            existing_data = doc.to_dict() or {}\n",
    "            # 날짜 키는 문자열로 사용하고, 데이터 안에 timestamp 필드 추가\n",
    "            if \"dates\" not in existing_data:\n",
    "                existing_data[\"dates\"] = {}\n",
    "            \n",
    "            # 날짜별 데이터 저장 (문자열 키 사용)\n",
    "            existing_data[\"dates\"][date_str] = data\n",
    "            # timestamp 필드 추가\n",
    "            data[\"timestamp\"] = date_str\n",
    "            \n",
    "            # 전체 데이터 저장\n",
    "            doc_ref.set(existing_data)\n",
    "        else:\n",
    "            # 문서가 없으면 새로 생성\n",
    "            # timestamp 필드 추가\n",
    "            data[\"timestamp\"] = date_str\n",
    "            doc_ref.set({\"dates\": {date_str: data}})\n",
    "            \n",
    "        logger.info(f\"{sector} {date_str} 데이터 저장 완료\")\n",
    "        return f\"{sector} {date_str} 데이터 저장 완료\"\n",
    "    except Exception as e:\n",
    "        error_msg = f\"{sector} {date_str} 데이터 저장 중 오류 발생: {e}\"\n",
    "        logger.error(error_msg)\n",
    "        return error_msg\n"
   ]
  },
  {
   "cell_type": "code",
   "execution_count": null,
   "metadata": {},
   "outputs": [],
   "source": [
    "for sector in crawled_telegram_data.keys():\n",
    "    if sector == '':\n",
    "        pass\n",
    "    else:\n",
    "        data = {\"date\":\"\", \"channels\":[], \"summary\":\"\", \"headline\":\"\"}\n",
    "        for date in crawled_telegram_data[sector]:\n",
    "            data[\"date\"] = date\n",
    "            for channel in crawled_telegram_data[sector][date]:\n",
    "                analysis_channel = {\n",
    "                    \"channel_name\": channel, \n",
    "                    \"posts\": crawled_telegram_data[sector][date][channel][\"posts\"],\n",
    "                    \"subscribers\": crawled_telegram_data[sector][date][channel][\"subscribers\"],\n",
    "                }\n",
    "\n",
    "                try:\n",
    "                    # None 값을 안전하게 처리하기 위해 or 연산자 사용\n",
    "                    sector_data = gemini_result_data.get(sector, {}) or {}\n",
    "                    date_data = sector_data.get(date, {}) or {}\n",
    "                    scores = date_data.get(\"scores\", {}) or {}\n",
    "                    \n",
    "                    analysis_channel[\"score\"] = scores.get(channel, 50)\n",
    "                except Exception as e:\n",
    "                    print(f\"점수 가져오기 오류 ({sector}/{date}/{channel}): {e}\")\n",
    "                    analysis_channel[\"score\"] = -1\n",
    "                \n",
    "                data[\"channels\"].append(analysis_channel)\n",
    "            \n",
    "            # 요약 정보 처리 (None 값 처리 추가)\n",
    "            try:\n",
    "                # None 값을 안전하게 처리하기 위해 or 연산자 사용\n",
    "                sector_data = gemini_result_data.get(sector, {}) or {}\n",
    "                date_data = sector_data.get(date, {}) or {}\n",
    "                summary_data = date_data.get(\"summary\", \"\") or \"\"\n",
    "                \n",
    "                # 타입 체크를 통해 다른 형식 처리\n",
    "                if isinstance(summary_data, dict):\n",
    "                    # 딕셔너리 형식일 경우\n",
    "                    data[\"headline\"] = summary_data.get(\"headline\", \"\")\n",
    "                    data[\"summary\"] = summary_data.get(\"summary\", \"\")\n",
    "                elif isinstance(summary_data, str):\n",
    "                    # 문자열 형식일 경우\n",
    "                    data[\"summary\"] = summary_data\n",
    "                    data[\"headline\"] = \"\"  # headline은 없음\n",
    "                else:\n",
    "                    # 다른 형식이면 빈 값으로 설정\n",
    "                    data[\"summary\"] = \"\"\n",
    "                    data[\"headline\"] = \"\"\n",
    "                    \n",
    "            except Exception as e:\n",
    "                print(f\"요약 가져오기 오류 ({sector}/{date}): {e}\")\n",
    "                data[\"summary\"] = \"\"\n",
    "                data[\"headline\"] = \"\"\n",
    "                \n",
    "            save_sector_data(sector, date, data)"
   ]
  },
  {
   "cell_type": "code",
   "execution_count": null,
   "metadata": {},
   "outputs": [],
   "source": []
  }
 ],
 "metadata": {
  "kernelspec": {
   "display_name": ".venv",
   "language": "python",
   "name": "python3"
  },
  "language_info": {
   "codemirror_mode": {
    "name": "ipython",
    "version": 3
   },
   "file_extension": ".py",
   "mimetype": "text/x-python",
   "name": "python",
   "nbconvert_exporter": "python",
   "pygments_lexer": "ipython3",
   "version": "3.13.2"
  }
 },
 "nbformat": 4,
 "nbformat_minor": 2
}
