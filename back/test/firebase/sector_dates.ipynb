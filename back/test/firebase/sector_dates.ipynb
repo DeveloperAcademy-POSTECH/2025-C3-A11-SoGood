{
 "cells": [
  {
   "cell_type": "code",
   "execution_count": 9,
   "metadata": {},
   "outputs": [],
   "source": [
    "from firebase_admin import credentials, firestore\n",
    "from datetime import datetime\n",
    "import firebase_admin\n",
    "import logging\n",
    "import json\n",
    "import os"
   ]
  },
  {
   "cell_type": "code",
   "execution_count": 10,
   "metadata": {},
   "outputs": [],
   "source": [
    "# 데이터 불러오기\n",
    "crawled_telegram_data_path = \"../data/crawled_telegram_data.json\"\n",
    "gemini_result_data_path = \"../data/gemini_result_data.json\"\n",
    "\n",
    "with open(crawled_telegram_data_path, \"r\") as f:\n",
    "    crawled_telegram_data = json.load(f)\n",
    "\n",
    "with open(gemini_result_data_path,\"r\") as f:\n",
    "    gemini_result_data = json.load(f)"
   ]
  },
  {
   "cell_type": "code",
   "execution_count": 11,
   "metadata": {},
   "outputs": [],
   "source": [
    "# 파베 로그인\n",
    "firebase_key_path = '../../data/firebase-key.json'\n",
    "\n",
    "if not firebase_admin._apps:\n",
    "    cred = credentials.Certificate(firebase_key_path)\n",
    "    firebase_admin.initialize_app(cred)\n",
    "db = firestore.client()\n"
   ]
  },
  {
   "cell_type": "code",
   "execution_count": 12,
   "metadata": {},
   "outputs": [],
   "source": [
    "category1 = \"try_sector_detail_page\"\n",
    "category2 = \"dates\""
   ]
  },
  {
   "cell_type": "code",
   "execution_count": 13,
   "metadata": {},
   "outputs": [],
   "source": [
    "# 로그 디렉토리 생성\n",
    "log_dir = \"../logs\"\n",
    "os.makedirs(log_dir, exist_ok=True)\n",
    "\n",
    "# 로깅 설정\n",
    "logging.basicConfig(\n",
    "    level=logging.INFO,\n",
    "    format='%(asctime)s - %(name)s - %(levelname)s - %(message)s',\n",
    "    handlers=[\n",
    "        logging.FileHandler(f\"{log_dir}/mongodb_operations.log\", encoding='utf-8'),\n",
    "        logging.StreamHandler()  # 콘솔에도 출력\n",
    "    ]\n",
    ")\n",
    "\n",
    "logger = logging.getLogger(\"mongodb_operations\")"
   ]
  },
  {
   "cell_type": "code",
   "execution_count": 14,
   "metadata": {},
   "outputs": [],
   "source": [
    "# 섹터 데이터 저장\n",
    "def save_sector_data(sector, date, data):\n",
    "    if db.collection(category1).document(sector).collection(category2).document(date).get().exists:\n",
    "        pass\n",
    "    else:\n",
    "        try:\n",
    "            db.collection(category1).document(sector).collection(category2).document(date).set(data)\n",
    "            logger.info(f\"{sector} {date} 데이터 저장 완료\")\n",
    "            return f\"{sector} {date} 데이터 저장 완료\"\n",
    "        except Exception as e:\n",
    "            error_msg = f\"{sector} {date} 데이터 저장 중 오류 발생: {e}\"\n",
    "            logger.error(error_msg)\n",
    "            return error_msg\n"
   ]
  },
  {
   "cell_type": "code",
   "execution_count": 15,
   "metadata": {},
   "outputs": [],
   "source": [
    "# 갯수 체크\n",
    "def count_num(scores):\n",
    "    positive = sum(1 for score in scores.values() if score > 66)\n",
    "    nutural = sum(1 for score in scores.values() if 33 <= score <= 66)\n",
    "    negative = sum(1 for score in scores.values() if score < 33)\n",
    "    return {\"positive\":positive, \"nutural\":nutural, \"negative\":negative}"
   ]
  },
  {
   "cell_type": "code",
   "execution_count": 16,
   "metadata": {},
   "outputs": [
    {
     "name": "stderr",
     "output_type": "stream",
     "text": [
      "2025-05-31 22:19:37,952 - mongodb_operations - ERROR - 게임 2025-05-22 데이터 저장 중 오류 발생: 'NoneType' object is not subscriptable\n"
     ]
    },
    {
     "name": "stdout",
     "output_type": "stream",
     "text": [
      "게임 2025-05-22 데이터 저장 중 오류 발생: 'NoneType' object is not subscriptable\n"
     ]
    },
    {
     "name": "stderr",
     "output_type": "stream",
     "text": [
      "2025-05-31 22:19:38,414 - mongodb_operations - INFO - 게임 2025-05-25 데이터 저장 완료\n",
      "2025-05-31 22:19:38,859 - mongodb_operations - INFO - 게임 2025-05-20 데이터 저장 완료\n",
      "2025-05-31 22:19:39,499 - mongodb_operations - INFO - 은행 2025-05-27 데이터 저장 완료\n",
      "2025-05-31 22:19:39,969 - mongodb_operations - INFO - 은행 2025-05-26 데이터 저장 완료\n",
      "2025-05-31 22:19:40,554 - mongodb_operations - INFO - 은행 2025-05-23 데이터 저장 완료\n",
      "2025-05-31 22:19:41,025 - mongodb_operations - INFO - 은행 2025-05-24 데이터 저장 완료\n",
      "2025-05-31 22:19:41,466 - mongodb_operations - INFO - 은행 2025-05-22 데이터 저장 완료\n",
      "2025-05-31 22:19:41,925 - mongodb_operations - INFO - 은행 2025-05-21 데이터 저장 완료\n",
      "2025-05-31 22:19:42,360 - mongodb_operations - INFO - 은행 2025-05-20 데이터 저장 완료\n",
      "2025-05-31 22:19:42,788 - mongodb_operations - INFO - 은행 2025-05-25 데이터 저장 완료\n",
      "2025-05-31 22:19:43,237 - mongodb_operations - INFO - 자동차 2025-05-27 데이터 저장 완료\n",
      "2025-05-31 22:19:43,686 - mongodb_operations - INFO - 자동차 2025-05-26 데이터 저장 완료\n",
      "2025-05-31 22:19:44,150 - mongodb_operations - INFO - 자동차 2025-05-25 데이터 저장 완료\n",
      "2025-05-31 22:19:44,829 - mongodb_operations - INFO - 자동차 2025-05-22 데이터 저장 완료\n",
      "2025-05-31 22:19:45,284 - mongodb_operations - INFO - 자동차 2025-05-23 데이터 저장 완료\n",
      "2025-05-31 22:19:45,741 - mongodb_operations - INFO - 자동차 2025-05-21 데이터 저장 완료\n",
      "2025-05-31 22:19:46,208 - mongodb_operations - INFO - 자동차 2025-05-24 데이터 저장 완료\n",
      "2025-05-31 22:19:46,649 - mongodb_operations - INFO - 자동차 2025-05-20 데이터 저장 완료\n",
      "2025-05-31 22:19:47,099 - mongodb_operations - INFO - 이차전지 2025-05-27 데이터 저장 완료\n",
      "2025-05-31 22:19:47,538 - mongodb_operations - INFO - 이차전지 2025-05-21 데이터 저장 완료\n",
      "2025-05-31 22:19:47,993 - mongodb_operations - INFO - 이차전지 2025-05-23 데이터 저장 완료\n",
      "2025-05-31 22:19:48,439 - mongodb_operations - INFO - 이차전지 2025-05-22 데이터 저장 완료\n",
      "2025-05-31 22:19:48,895 - mongodb_operations - INFO - 이차전지 2025-05-24 데이터 저장 완료\n",
      "2025-05-31 22:19:49,328 - mongodb_operations - INFO - 이차전지 2025-05-26 데이터 저장 완료\n",
      "2025-05-31 22:19:49,785 - mongodb_operations - INFO - 이차전지 2025-05-25 데이터 저장 완료\n",
      "2025-05-31 22:19:50,233 - mongodb_operations - INFO - 이차전지 2025-05-20 데이터 저장 완료\n",
      "2025-05-31 22:19:50,687 - mongodb_operations - INFO - 유통 2025-05-27 데이터 저장 완료\n",
      "2025-05-31 22:19:51,200 - mongodb_operations - INFO - 유통 2025-05-24 데이터 저장 완료\n",
      "2025-05-31 22:19:51,717 - mongodb_operations - INFO - 유통 2025-05-26 데이터 저장 완료\n",
      "2025-05-31 22:19:52,164 - mongodb_operations - INFO - 유통 2025-05-23 데이터 저장 완료\n",
      "2025-05-31 22:19:52,615 - mongodb_operations - INFO - 유통 2025-05-22 데이터 저장 완료\n",
      "2025-05-31 22:19:53,066 - mongodb_operations - INFO - 유통 2025-05-21 데이터 저장 완료\n",
      "2025-05-31 22:19:53,499 - mongodb_operations - INFO - 유통 2025-05-25 데이터 저장 완료\n",
      "2025-05-31 22:19:53,942 - mongodb_operations - INFO - 유통 2025-05-20 데이터 저장 완료\n",
      "2025-05-31 22:19:54,390 - mongodb_operations - INFO - 수소 2025-05-22 데이터 저장 완료\n",
      "2025-05-31 22:19:54,841 - mongodb_operations - INFO - 수소 2025-05-26 데이터 저장 완료\n",
      "2025-05-31 22:19:55,427 - mongodb_operations - INFO - 수소 2025-05-24 데이터 저장 완료\n",
      "2025-05-31 22:19:55,911 - mongodb_operations - INFO - 수소 2025-05-21 데이터 저장 완료\n",
      "2025-05-31 22:19:56,360 - mongodb_operations - INFO - 수소 2025-05-27 데이터 저장 완료\n",
      "2025-05-31 22:19:56,808 - mongodb_operations - INFO - 수소 2025-05-25 데이터 저장 완료\n",
      "2025-05-31 22:19:57,261 - mongodb_operations - INFO - 수소 2025-05-20 데이터 저장 완료\n",
      "2025-05-31 22:19:57,699 - mongodb_operations - INFO - 수소 2025-05-23 데이터 저장 완료\n",
      "2025-05-31 22:19:58,149 - mongodb_operations - INFO - 화학 2025-05-27 데이터 저장 완료\n",
      "2025-05-31 22:19:58,614 - mongodb_operations - INFO - 화학 2025-05-21 데이터 저장 완료\n",
      "2025-05-31 22:19:59,057 - mongodb_operations - INFO - 화학 2025-05-20 데이터 저장 완료\n",
      "2025-05-31 22:19:59,510 - mongodb_operations - INFO - 화학 2025-05-25 데이터 저장 완료\n",
      "2025-05-31 22:19:59,948 - mongodb_operations - INFO - 화학 2025-05-22 데이터 저장 완료\n",
      "2025-05-31 22:20:00,396 - mongodb_operations - INFO - 화학 2025-05-23 데이터 저장 완료\n",
      "2025-05-31 22:20:00,928 - mongodb_operations - INFO - 화학 2025-05-24 데이터 저장 완료\n",
      "2025-05-31 22:20:01,389 - mongodb_operations - INFO - 화학 2025-05-26 데이터 저장 완료\n",
      "2025-05-31 22:20:01,824 - mongodb_operations - INFO - 바이오 2025-05-27 데이터 저장 완료\n",
      "2025-05-31 22:20:02,247 - mongodb_operations - INFO - 바이오 2025-05-26 데이터 저장 완료\n",
      "2025-05-31 22:20:02,681 - mongodb_operations - INFO - 바이오 2025-05-24 데이터 저장 완료\n",
      "2025-05-31 22:20:03,181 - mongodb_operations - INFO - 바이오 2025-05-23 데이터 저장 완료\n",
      "2025-05-31 22:20:03,616 - mongodb_operations - INFO - 바이오 2025-05-22 데이터 저장 완료\n",
      "2025-05-31 22:20:04,035 - mongodb_operations - INFO - 바이오 2025-05-21 데이터 저장 완료\n",
      "2025-05-31 22:20:04,469 - mongodb_operations - INFO - 바이오 2025-05-20 데이터 저장 완료\n",
      "2025-05-31 22:20:04,920 - mongodb_operations - INFO - 바이오 2025-05-25 데이터 저장 완료\n",
      "2025-05-31 22:20:05,360 - mongodb_operations - INFO - 음식료 2025-05-23 데이터 저장 완료\n",
      "2025-05-31 22:20:05,815 - mongodb_operations - INFO - 음식료 2025-05-27 데이터 저장 완료\n",
      "2025-05-31 22:20:06,260 - mongodb_operations - INFO - 음식료 2025-05-24 데이터 저장 완료\n",
      "2025-05-31 22:20:06,687 - mongodb_operations - INFO - 음식료 2025-05-25 데이터 저장 완료\n",
      "2025-05-31 22:20:07,135 - mongodb_operations - INFO - 음식료 2025-05-22 데이터 저장 완료\n",
      "2025-05-31 22:20:07,556 - mongodb_operations - INFO - 음식료 2025-05-21 데이터 저장 완료\n",
      "2025-05-31 22:20:08,001 - mongodb_operations - INFO - 음식료 2025-05-26 데이터 저장 완료\n",
      "2025-05-31 22:20:08,436 - mongodb_operations - INFO - 음식료 2025-05-20 데이터 저장 완료\n",
      "2025-05-31 22:20:08,868 - mongodb_operations - INFO - 철강 2025-05-22 데이터 저장 완료\n",
      "2025-05-31 22:20:09,301 - mongodb_operations - INFO - 철강 2025-05-26 데이터 저장 완료\n",
      "2025-05-31 22:20:09,775 - mongodb_operations - INFO - 철강 2025-05-24 데이터 저장 완료\n",
      "2025-05-31 22:20:10,245 - mongodb_operations - INFO - 철강 2025-05-21 데이터 저장 완료\n",
      "2025-05-31 22:20:10,716 - mongodb_operations - INFO - 철강 2025-05-27 데이터 저장 완료\n",
      "2025-05-31 22:20:11,156 - mongodb_operations - INFO - 철강 2025-05-25 데이터 저장 완료\n",
      "2025-05-31 22:20:11,683 - mongodb_operations - INFO - 철강 2025-05-23 데이터 저장 완료\n",
      "2025-05-31 22:20:12,109 - mongodb_operations - INFO - 철강 2025-05-20 데이터 저장 완료\n",
      "2025-05-31 22:20:12,521 - mongodb_operations - INFO - 보험 2025-05-21 데이터 저장 완료\n",
      "2025-05-31 22:20:12,956 - mongodb_operations - INFO - 보험 2025-05-27 데이터 저장 완료\n",
      "2025-05-31 22:20:13,420 - mongodb_operations - INFO - 보험 2025-05-22 데이터 저장 완료\n",
      "2025-05-31 22:20:13,865 - mongodb_operations - INFO - 보험 2025-05-26 데이터 저장 완료\n",
      "2025-05-31 22:20:14,358 - mongodb_operations - INFO - 보험 2025-05-23 데이터 저장 완료\n",
      "2025-05-31 22:20:14,793 - mongodb_operations - INFO - 보험 2025-05-25 데이터 저장 완료\n",
      "2025-05-31 22:20:15,243 - mongodb_operations - INFO - 보험 2025-05-20 데이터 저장 완료\n",
      "2025-05-31 22:20:15,672 - mongodb_operations - INFO - 보험 2025-05-24 데이터 저장 완료\n",
      "2025-05-31 22:20:16,098 - mongodb_operations - INFO - 패션 2025-05-21 데이터 저장 완료\n",
      "2025-05-31 22:20:16,523 - mongodb_operations - INFO - 패션 2025-05-23 데이터 저장 완료\n",
      "2025-05-31 22:20:17,006 - mongodb_operations - INFO - 패션 2025-05-24 데이터 저장 완료\n",
      "2025-05-31 22:20:17,518 - mongodb_operations - INFO - 패션 2025-05-27 데이터 저장 완료\n",
      "2025-05-31 22:20:17,971 - mongodb_operations - INFO - 패션 2025-05-22 데이터 저장 완료\n",
      "2025-05-31 22:20:18,542 - mongodb_operations - INFO - 패션 2025-05-25 데이터 저장 완료\n",
      "2025-05-31 22:20:18,971 - mongodb_operations - INFO - 패션 2025-05-20 데이터 저장 완료\n",
      "2025-05-31 22:20:19,435 - mongodb_operations - INFO - 패션 2025-05-26 데이터 저장 완료\n",
      "2025-05-31 22:20:19,878 - mongodb_operations - INFO - 화장품 2025-05-21 데이터 저장 완료\n",
      "2025-05-31 22:20:20,386 - mongodb_operations - INFO - 화장품 2025-05-27 데이터 저장 완료\n",
      "2025-05-31 22:20:20,846 - mongodb_operations - INFO - 화장품 2025-05-25 데이터 저장 완료\n",
      "2025-05-31 22:20:21,408 - mongodb_operations - INFO - 화장품 2025-05-24 데이터 저장 완료\n",
      "2025-05-31 22:20:21,939 - mongodb_operations - INFO - 화장품 2025-05-22 데이터 저장 완료\n",
      "2025-05-31 22:20:22,378 - mongodb_operations - INFO - 화장품 2025-05-23 데이터 저장 완료\n",
      "2025-05-31 22:20:22,842 - mongodb_operations - INFO - 화장품 2025-05-26 데이터 저장 완료\n",
      "2025-05-31 22:20:23,302 - mongodb_operations - INFO - 화장품 2025-05-20 데이터 저장 완료\n",
      "2025-05-31 22:20:23,713 - mongodb_operations - INFO - 피부미용 2025-05-25 데이터 저장 완료\n",
      "2025-05-31 22:20:24,138 - mongodb_operations - INFO - 피부미용 2025-05-27 데이터 저장 완료\n",
      "2025-05-31 22:20:24,574 - mongodb_operations - INFO - 피부미용 2025-05-24 데이터 저장 완료\n",
      "2025-05-31 22:20:25,009 - mongodb_operations - INFO - 피부미용 2025-05-23 데이터 저장 완료\n",
      "2025-05-31 22:20:25,505 - mongodb_operations - INFO - 피부미용 2025-05-22 데이터 저장 완료\n",
      "2025-05-31 22:20:26,018 - mongodb_operations - INFO - 피부미용 2025-05-21 데이터 저장 완료\n",
      "2025-05-31 22:20:26,529 - mongodb_operations - INFO - 피부미용 2025-05-26 데이터 저장 완료\n",
      "2025-05-31 22:20:26,966 - mongodb_operations - INFO - 피부미용 2025-05-20 데이터 저장 완료\n",
      "2025-05-31 22:20:27,405 - mongodb_operations - INFO - 디스플레이 2025-05-25 데이터 저장 완료\n",
      "2025-05-31 22:20:27,835 - mongodb_operations - INFO - 디스플레이 2025-05-22 데이터 저장 완료\n",
      "2025-05-31 22:20:28,303 - mongodb_operations - INFO - 디스플레이 2025-05-23 데이터 저장 완료\n",
      "2025-05-31 22:20:28,758 - mongodb_operations - INFO - 디스플레이 2025-05-27 데이터 저장 완료\n",
      "2025-05-31 22:20:29,209 - mongodb_operations - INFO - 디스플레이 2025-05-26 데이터 저장 완료\n",
      "2025-05-31 22:20:29,704 - mongodb_operations - INFO - 디스플레이 2025-05-24 데이터 저장 완료\n",
      "2025-05-31 22:20:30,205 - mongodb_operations - INFO - 디스플레이 2025-05-21 데이터 저장 완료\n",
      "2025-05-31 22:20:30,724 - mongodb_operations - INFO - 디스플레이 2025-05-20 데이터 저장 완료\n",
      "2025-05-31 22:20:31,179 - mongodb_operations - INFO - 임플란트 2025-05-26 데이터 저장 완료\n",
      "2025-05-31 22:20:31,635 - mongodb_operations - INFO - 임플란트 2025-05-21 데이터 저장 완료\n",
      "2025-05-31 22:20:32,086 - mongodb_operations - INFO - 임플란트 2025-05-27 데이터 저장 완료\n",
      "2025-05-31 22:20:32,553 - mongodb_operations - INFO - 임플란트 2025-05-23 데이터 저장 완료\n",
      "2025-05-31 22:20:33,008 - mongodb_operations - INFO - 임플란트 2025-05-24 데이터 저장 완료\n",
      "2025-05-31 22:20:33,493 - mongodb_operations - INFO - 임플란트 2025-05-22 데이터 저장 완료\n",
      "2025-05-31 22:20:34,005 - mongodb_operations - INFO - 임플란트 2025-05-20 데이터 저장 완료\n"
     ]
    }
   ],
   "source": [
    "for sector in gemini_result_data.keys():\n",
    "    for date in gemini_result_data[sector]:\n",
    "        try:\n",
    "            count = count_num(gemini_result_data[sector][date][\"scores\"])\n",
    "            data = {\"counts\":count, \"summary\":gemini_result_data[sector][date][\"summary\"]}\n",
    "\n",
    "            save_sector_data(sector, date, data)\n",
    "        except Exception as e:\n",
    "            error_msg = f\"{sector} {date} 데이터 저장 중 오류 발생: {e}\"\n",
    "            logger.error(error_msg)\n",
    "            print(error_msg)\n"
   ]
  },
  {
   "cell_type": "code",
   "execution_count": null,
   "metadata": {},
   "outputs": [],
   "source": []
  }
 ],
 "metadata": {
  "kernelspec": {
   "display_name": ".venv",
   "language": "python",
   "name": "python3"
  },
  "language_info": {
   "codemirror_mode": {
    "name": "ipython",
    "version": 3
   },
   "file_extension": ".py",
   "mimetype": "text/x-python",
   "name": "python",
   "nbconvert_exporter": "python",
   "pygments_lexer": "ipython3",
   "version": "3.13.2"
  }
 },
 "nbformat": 4,
 "nbformat_minor": 2
}
