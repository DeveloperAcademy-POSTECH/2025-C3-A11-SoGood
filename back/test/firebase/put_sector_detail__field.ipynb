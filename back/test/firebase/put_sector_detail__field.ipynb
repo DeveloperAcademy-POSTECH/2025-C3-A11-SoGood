{
 "cells": [
  {
   "cell_type": "code",
   "execution_count": 1,
   "metadata": {},
   "outputs": [],
   "source": [
    "from firebase_admin import credentials, firestore\n",
    "from datetime import datetime\n",
    "import firebase_admin\n",
    "import logging\n",
    "import json\n",
    "import os"
   ]
  },
  {
   "cell_type": "code",
   "execution_count": 2,
   "metadata": {},
   "outputs": [],
   "source": [
    "# 데이터 불러오기\n",
    "from telegram_raw_datas import sectors"
   ]
  },
  {
   "cell_type": "code",
   "execution_count": 3,
   "metadata": {},
   "outputs": [],
   "source": [
    "# 파베 로그인\n",
    "firebase_key_path = '../../data/firebase-key.json'\n",
    "\n",
    "if not firebase_admin._apps:\n",
    "    cred = credentials.Certificate(firebase_key_path)\n",
    "    firebase_admin.initialize_app(cred)\n",
    "db = firestore.client()\n"
   ]
  },
  {
   "cell_type": "code",
   "execution_count": 4,
   "metadata": {},
   "outputs": [],
   "source": [
    "# 로그 디렉토리 생성\n",
    "log_dir = \"../logs\"\n",
    "os.makedirs(log_dir, exist_ok=True)\n",
    "\n",
    "# 로깅 설정\n",
    "logging.basicConfig(\n",
    "    level=logging.INFO,\n",
    "    format='%(asctime)s - %(name)s - %(levelname)s - %(message)s',\n",
    "    handlers=[\n",
    "        logging.FileHandler(f\"{log_dir}/firebase_operations.log\", encoding='utf-8'),\n",
    "        logging.StreamHandler()  # 콘솔에도 출력\n",
    "    ]\n",
    ")\n",
    "\n",
    "logger = logging.getLogger(\"firebase_operations\")"
   ]
  },
  {
   "cell_type": "code",
   "execution_count": 5,
   "metadata": {},
   "outputs": [],
   "source": [
    "category = \"try_sector_detail_page\""
   ]
  },
  {
   "cell_type": "code",
   "execution_count": 6,
   "metadata": {},
   "outputs": [],
   "source": [
    "# 섹터 데이터 저장\n",
    "def save_sector_data(sector, data):\n",
    "    if db.collection(category).document(sector).get().exists:\n",
    "        pass\n",
    "    else:\n",
    "        try:\n",
    "            db.collection(category).document(sector).set(data)\n",
    "            logger.info(f\"{sector} 데이터 저장 완료\")\n",
    "            return f\"{sector} 데이터 저장 완료\"\n",
    "        except Exception as e:\n",
    "            error_msg = f\"{sector} 데이터 저장 중 오류 발생: {e}\"\n",
    "            logger.error(error_msg)\n",
    "            return error_msg\n"
   ]
  },
  {
   "cell_type": "code",
   "execution_count": 7,
   "metadata": {},
   "outputs": [
    {
     "name": "stderr",
     "output_type": "stream",
     "text": [
      "2025-06-02 16:59:37,774 - firebase_operations - INFO - 게임 데이터 저장 완료\n",
      "2025-06-02 16:59:38,229 - firebase_operations - INFO - 조선 데이터 저장 완료\n",
      "2025-06-02 16:59:38,685 - firebase_operations - INFO - 방산 데이터 저장 완료\n",
      "2025-06-02 16:59:39,142 - firebase_operations - INFO - 반도체 데이터 저장 완료\n",
      "2025-06-02 16:59:39,587 - firebase_operations - INFO - 이차전지 데이터 저장 완료\n",
      "2025-06-02 16:59:40,028 - firebase_operations - INFO - 디스플레이 데이터 저장 완료\n",
      "2025-06-02 16:59:40,472 - firebase_operations - INFO - 화장품 데이터 저장 완료\n",
      "2025-06-02 16:59:40,929 - firebase_operations - INFO - 자동차 데이터 저장 완료\n",
      "2025-06-02 16:59:41,590 - firebase_operations - INFO - 철강 데이터 저장 완료\n",
      "2025-06-02 16:59:42,039 - firebase_operations - INFO - 화학 데이터 저장 완료\n",
      "2025-06-02 16:59:42,476 - firebase_operations - INFO - 엔터 데이터 저장 완료\n",
      "2025-06-02 16:59:42,923 - firebase_operations - INFO - 음식료 데이터 저장 완료\n",
      "2025-06-02 16:59:43,374 - firebase_operations - INFO - 패션 데이터 저장 완료\n",
      "2025-06-02 16:59:43,822 - firebase_operations - INFO - 풍력 데이터 저장 완료\n",
      "2025-06-02 16:59:44,261 - firebase_operations - INFO - 원전 데이터 저장 완료\n",
      "2025-06-02 16:59:44,711 - firebase_operations - INFO - 바이오 데이터 저장 완료\n",
      "2025-06-02 16:59:45,161 - firebase_operations - INFO - 임플란트 데이터 저장 완료\n",
      "2025-06-02 16:59:45,607 - firebase_operations - INFO - 피부미용 데이터 저장 완료\n",
      "2025-06-02 16:59:46,098 - firebase_operations - INFO - 유통 데이터 저장 완료\n",
      "2025-06-02 16:59:46,563 - firebase_operations - INFO - 은행 데이터 저장 완료\n",
      "2025-06-02 16:59:47,021 - firebase_operations - INFO - 보험 데이터 저장 완료\n",
      "2025-06-02 16:59:47,462 - firebase_operations - INFO - 수소 데이터 저장 완료\n",
      "2025-06-02 16:59:48,122 - firebase_operations - INFO - 전선 데이터 저장 완료\n",
      "2025-06-02 16:59:48,570 - firebase_operations - INFO - 여행 데이터 저장 완료\n"
     ]
    }
   ],
   "source": [
    "for sector in sectors.keys():\n",
    "    try:\n",
    "        data = {\"sector\": sector}\n",
    "\n",
    "        save_sector_data(sector, data)\n",
    "    except Exception as e:\n",
    "        error_msg = f\"{sector} 데이터 저장 중 오류 발생: {e}\"\n",
    "        logger.error(error_msg)\n",
    "        print(error_msg)\n"
   ]
  }
 ],
 "metadata": {
  "kernelspec": {
   "display_name": ".venv",
   "language": "python",
   "name": "python3"
  },
  "language_info": {
   "codemirror_mode": {
    "name": "ipython",
    "version": 3
   },
   "file_extension": ".py",
   "mimetype": "text/x-python",
   "name": "python",
   "nbconvert_exporter": "python",
   "pygments_lexer": "ipython3",
   "version": "3.13.2"
  }
 },
 "nbformat": 4,
 "nbformat_minor": 2
}
