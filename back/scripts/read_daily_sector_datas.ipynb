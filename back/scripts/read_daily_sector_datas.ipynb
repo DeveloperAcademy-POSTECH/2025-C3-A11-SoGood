{
 "cells": [
  {
   "cell_type": "code",
   "execution_count": 10,
   "metadata": {},
   "outputs": [],
   "source": [
    "from firebase_admin import credentials, firestore\n",
    "import firebase_admin"
   ]
  },
  {
   "cell_type": "code",
   "execution_count": 11,
   "metadata": {},
   "outputs": [],
   "source": [
    "firebase_key_path = '../data/firebase-key.json'\n",
    "\n",
    "if not firebase_admin._apps:\n",
    "    cred = credentials.Certificate(firebase_key_path)\n",
    "    firebase_admin.initialize_app(cred)\n",
    "db = firestore.client()"
   ]
  },
  {
   "cell_type": "code",
   "execution_count": 12,
   "metadata": {},
   "outputs": [],
   "source": [
    "def read_data(sector):\n",
    "    data = db.collection(\"sector_detail\").document(sector).collection(\"dates\").document(\"2025-06-11\").get().to_dict()\n",
    "    return {sector: data['counts']}"
   ]
  },
  {
   "cell_type": "code",
   "execution_count": null,
   "metadata": {},
   "outputs": [],
   "source": []
  },
  {
   "cell_type": "code",
   "execution_count": 13,
   "metadata": {},
   "outputs": [],
   "source": [
    "sectors = {\n",
    "    \"게임\": [\"게임\", \"게이밍\"],\n",
    "    \"조선\": [\"조선\", \"선박\"],\n",
    "    \"방산\": [\"방산\", \"국방\", \"무기\"],\n",
    "    \"반도체\": [\"반도체\", \"삼성전자\", \"SK하이닉스\", \"HBM\", \"메모리\"],\n",
    "    \"이차전지\": [\"이차전지\", \"배터리\", \"2차전지\", \"리튬\"],\n",
    "    \"디스플레이\": [\"디스플레이\", \"LCD\", \"OLED\", \"패널\"],\n",
    "    \"화장품\": [\"화장품\", \"뷰티\", \"코스메틱\", \"달바\"],\n",
    "    \"자동차\": [\"자동차\", \"모빌리티\", \"테슬라\", \"전기차\", \"EV\"],\n",
    "    \"건설\": [\"건설\", \"시멘트\", \"아파트\"],\n",
    "    \"철강\": [\"철강\", \"철\", \"스틸\"],\n",
    "    \"화학\": [\"화학\", \"과산화수소\", \"바인더\", \"소재\"],\n",
    "    \"엔터\": [\"엔터\", \"엔터테인먼트\", \"음악\", \"콘서트\", \"영화\"],\n",
    "    \"음식료\": [\"음식\", \"식품\", \"음료\", \"외식\"],\n",
    "    \"패션\": [\"패션\", \"의류\", \"의복\"],\n",
    "    \"풍력\": [\"풍력\", \"발전\", \"터빈\"],\n",
    "    \"원전\": [\"원전\", \"원자력\", \"핵발전\"],\n",
    "    \"바이오\": [\"바이오\", \"제약\", \"의약품\"],\n",
    "    \"임플란트\": [\"임플란트\", \"치과\"],\n",
    "    \"피부미용\": [\"피부\", \"미용\", \"성형\"],\n",
    "    \"유통\": [\"유통\", \"물류\", \"마트\", \"쇼핑\"],\n",
    "    \"은행\": [\"은행\", \"금융\", \"대출\"],\n",
    "    \"보험\": [\"보험\"],\n",
    "    \"수소\": [\"수소\", \"연료전지\"],\n",
    "    \"IT\": [\"IT\", \"소프트웨어\", \"인공지능\", \"AI\", \"빅데이터\", \"클라우드\"],\n",
    "    \"전선\": [\"전선\", \"케이블\", \"전력\"],\n",
    "    \"여행\": [\"여행\", \"관광\", \"호텔\", \"항공\"]\n",
    "}"
   ]
  },
  {
   "cell_type": "code",
   "execution_count": 14,
   "metadata": {},
   "outputs": [
    {
     "name": "stdout",
     "output_type": "stream",
     "text": [
      "{'게임': {'negative': 3, 'neutral': 13, 'positive': 4}, '조선': {'negative': 1, 'neutral': 13, 'positive': 16}, '방산': {'negative': 1, 'neutral': 13, 'positive': 16}, '반도체': {'negative': 2, 'neutral': 26, 'positive': 16}, '이차전지': {'negative': 3, 'neutral': 9, 'positive': 16}, '디스플레이': {'negative': 0, 'neutral': 4, 'positive': 3}, '화장품': {'negative': 1, 'neutral': 9, 'positive': 24}, '자동차': {'negative': 0, 'neutral': 28, 'positive': 14}, '건설': {'negative': 4, 'neutral': 13, 'positive': 16}, '철강': {'negative': 2, 'neutral': 27, 'positive': 1}, '화학': {'negative': 0, 'neutral': 18, 'positive': 12}, '엔터': {'negative': 2, 'neutral': 16, 'positive': 6}, '음식료': {'negative': 1, 'neutral': 19, 'positive': 7}, '패션': {'negative': 0, 'neutral': 14, 'positive': 2}, '풍력': {'negative': 0, 'neutral': 10, 'positive': 18}, '원전': {'negative': 1, 'neutral': 4, 'positive': 26}, '바이오': {'negative': 3, 'neutral': 21, 'positive': 15}, '임플란트': {'negative': 0, 'neutral': 1, 'positive': 0}, '피부미용': {'negative': 0, 'neutral': 12, 'positive': 8}, '유통': {'negative': 1, 'neutral': 39, 'positive': 4}, '은행': {'negative': 1, 'neutral': 29, 'positive': 11}, '보험': {'negative': 1, 'neutral': 12, 'positive': 5}, '수소': {'negative': 0, 'neutral': 1, 'positive': 6}, 'IT': {'negative': 0, 'neutral': 25, 'positive': 27}, '전선': {'negative': 0, 'neutral': 20, 'positive': 12}, '여행': {'negative': 0, 'neutral': 18, 'positive': 9}}\n"
     ]
    }
   ],
   "source": [
    "results = {sector: read_data(sector)[sector] for sector in sectors.keys()}\n",
    "print(results)"
   ]
  },
  {
   "cell_type": "code",
   "execution_count": 16,
   "metadata": {},
   "outputs": [
    {
     "data": {
      "text/plain": [
       "update_time {\n",
       "  seconds: 1749701196\n",
       "  nanos: 967884000\n",
       "}"
      ]
     },
     "execution_count": 16,
     "metadata": {},
     "output_type": "execute_result"
    }
   ],
   "source": [
    "db.collection(\"sector_score\").document(\"datas\").set(results)"
   ]
  }
 ],
 "metadata": {
  "kernelspec": {
   "display_name": ".venv",
   "language": "python",
   "name": "python3"
  },
  "language_info": {
   "codemirror_mode": {
    "name": "ipython",
    "version": 3
   },
   "file_extension": ".py",
   "mimetype": "text/x-python",
   "name": "python",
   "nbconvert_exporter": "python",
   "pygments_lexer": "ipython3",
   "version": "3.13.2"
  }
 },
 "nbformat": 4,
 "nbformat_minor": 2
}
