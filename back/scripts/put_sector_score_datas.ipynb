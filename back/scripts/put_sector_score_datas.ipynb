{
 "cells": [
  {
   "cell_type": "code",
   "execution_count": 13,
   "metadata": {},
   "outputs": [],
   "source": [
    "from firebase_admin import credentials, firestore\n",
    "import firebase_admin"
   ]
  },
  {
   "cell_type": "code",
   "execution_count": 14,
   "metadata": {},
   "outputs": [],
   "source": [
    "# 파베 로그인\n",
    "firebase_key_path = '../data/firebase-key.json'\n",
    "\n",
    "if not firebase_admin._apps:\n",
    "    cred = credentials.Certificate(firebase_key_path)\n",
    "    firebase_admin.initialize_app(cred)\n",
    "db = firestore.client()\n"
   ]
  },
  {
   "cell_type": "code",
   "execution_count": 15,
   "metadata": {},
   "outputs": [],
   "source": [
    "category = \"sector_detail\""
   ]
  },
  {
   "cell_type": "code",
   "execution_count": 16,
   "metadata": {},
   "outputs": [],
   "source": [
    "# 섹터 데이터 저장\n",
    "def save_sector_data(data):\n",
    "    if db.collection(category).document(data).get().exists:\n",
    "        pass\n",
    "    else:\n",
    "        try:\n",
    "            db.collection(category).document(data).set({\"sector\":data})\n",
    "            return \"데이터 저장 완료\"\n",
    "        except Exception as e:\n",
    "            error_msg = f\"데이터 저장 중 오류 발생: {e}\"\n",
    "            return error_msg\n"
   ]
  },
  {
   "cell_type": "code",
   "execution_count": 17,
   "metadata": {},
   "outputs": [],
   "source": [
    "import sys\n",
    "from pathlib import Path\n",
    "\n",
    "sys.path.append(str(Path().resolve().parent))\n",
    "\n",
    "from data.telegram_raw_datas import sectors\n",
    "\n",
    "for sector in sectors.keys():\n",
    "    save_sector_data(sector)"
   ]
  }
 ],
 "metadata": {
  "kernelspec": {
   "display_name": ".venv",
   "language": "python",
   "name": "python3"
  },
  "language_info": {
   "codemirror_mode": {
    "name": "ipython",
    "version": 3
   },
   "file_extension": ".py",
   "mimetype": "text/x-python",
   "name": "python",
   "nbconvert_exporter": "python",
   "pygments_lexer": "ipython3",
   "version": "3.13.2"
  }
 },
 "nbformat": 4,
 "nbformat_minor": 2
}
